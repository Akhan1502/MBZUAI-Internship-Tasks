{
  "cells": [
    {
      "cell_type": "code",
      "execution_count": 1,
      "metadata": {
        "id": "EHxhI6skcJa_"
      },
      "outputs": [],
      "source": [
        "import numpy as np\n",
        "import seaborn as sns\n",
        "import altair as alt\n",
        "from sklearn.metrics.pairwise import cosine_similarity"
      ]
    },
    {
      "cell_type": "code",
      "execution_count": null,
      "metadata": {
        "id": "_ZMZDPKDcnZU"
      },
      "outputs": [],
      "source": [
        "import openai\n",
        "import os\n",
        "openai.api_key = \"\""
      ]
    },
    {
      "cell_type": "code",
      "execution_count": 3,
      "metadata": {
        "id": "7El1D3K3cvlL"
      },
      "outputs": [],
      "source": [
        "texts = [\"I like to be in my house\",\n",
        "         \"I enjoy staying home\",\n",
        "         \"the isotope 238u decays to 206pb\"]"
      ]
    },
    {
      "cell_type": "markdown",
      "metadata": {
        "id": "vfQJd1ancy7Q"
      },
      "source": [
        "To get the corresponding sentence embeddings, we call the Embed endpoint with co.embed(). We supply three parameters:\n",
        "\n",
        "texts - our list of sentences\n",
        "model - the model name\n",
        "input_type - we use search_document to indicate that we intend to use the embeddings for search use-cases"
      ]
    },
    {
      "cell_type": "code",
      "execution_count": 4,
      "metadata": {
        "id": "eY2_UTPncv0m"
      },
      "outputs": [],
      "source": [
        "response = openai.embeddings.create(\n",
        "    input=texts,\n",
        "    model='text-embedding-ada-002' # Or another appropriate OpenAI embedding model\n",
        ")\n",
        "\n",
        "# Extract the embeddings from the response\n",
        "embeddings = [item.embedding for item in response.data]"
      ]
    },
    {
      "cell_type": "code",
      "execution_count": 5,
      "metadata": {
        "colab": {
          "base_uri": "https://localhost:8080/"
        },
        "id": "rz-82xlKc1Nj",
        "outputId": "7b9545a6-0fb9-4994-ce3d-6c6f2bc62781"
      },
      "outputs": [
        {
          "name": "stdout",
          "output_type": "stream",
          "text": [
            "Embedding for sentence 1 [ 2.82697636e-03  8.56453087e-03 -1.64974034e-02 ... -1.15803853e-02\n",
            "  9.56484801e-05 -2.87837591e-02]\n",
            "Embedding for sentence 2 [ 0.00192339  0.00730098 -0.00814949 ... -0.01054937  0.00382779\n",
            " -0.03543475]\n",
            "Embedding for sentence 3 [ 0.00018073  0.00974596  0.00837052 ... -0.00537076 -0.02347413\n",
            " -0.00467321]\n"
          ]
        }
      ],
      "source": [
        "# Extract the embeddings from the response\n",
        "embeddings = [item.embedding for item in response.data]\n",
        "\n",
        "[sentence1, sentence2, sentence3] = embeddings\n",
        "\n",
        "print(\"Embedding for sentence 1\", np.array(sentence1))\n",
        "print(\"Embedding for sentence 2\", np.array(sentence2))\n",
        "print(\"Embedding for sentence 3\", np.array(sentence3))"
      ]
    },
    {
      "cell_type": "code",
      "execution_count": 6,
      "metadata": {
        "colab": {
          "base_uri": "https://localhost:8080/"
        },
        "id": "dqbTe79_d47c",
        "outputId": "1ba9611b-52a7-4948-920d-cce78ea2ac16"
      },
      "outputs": [
        {
          "name": "stdout",
          "output_type": "stream",
          "text": [
            "Similarity between sentences 1 and 2: 0.9434670341493698\n",
            "Similarity between sentences 1 and 3: 0.6768443167202791\n",
            "Similarity between sentences 2 and 3: 0.6739775360169225\n"
          ]
        }
      ],
      "source": [
        "print(\"Similarity between sentences 1 and 2:\", np.dot(sentence1, sentence2))\n",
        "print(\"Similarity between sentences 1 and 3:\", np.dot(sentence1, sentence3))\n",
        "print(\"Similarity between sentences 2 and 3:\", np.dot(sentence2, sentence3))"
      ]
    },
    {
      "cell_type": "markdown",
      "metadata": {
        "id": "VGxv2Nq4eY2Q"
      },
      "source": [
        "The similarity between sentences 1 and 2 (0.94) is much larger than the similarities between the other pairs. This confirms our predictions.\n",
        "\n"
      ]
    },
    {
      "cell_type": "code",
      "execution_count": 8,
      "metadata": {
        "colab": {
          "base_uri": "https://localhost:8080/"
        },
        "id": "hC65YFbvedLa",
        "outputId": "d4ca8f12-aee2-431e-e860-a5b86285f653"
      },
      "outputs": [
        {
          "name": "stdout",
          "output_type": "stream",
          "text": [
            "Similarity between sentences 1 and 1: 1.0000001025401895\n",
            "Similarity between sentences 2 and 2: 0.9999999860274315\n",
            "Similarity between sentences 3 and 3: 0.9999999489301806\n"
          ]
        }
      ],
      "source": [
        "print(\"Similarity between sentences 1 and 1:\", np.dot(sentence1, sentence1))\n",
        "print(\"Similarity between sentences 2 and 2:\", np.dot(sentence2, sentence2))\n",
        "print(\"Similarity between sentences 3 and 3:\", np.dot(sentence3, sentence3))"
      ]
    },
    {
      "cell_type": "markdown",
      "metadata": {
        "id": "OwqRru5rerQf"
      },
      "source": [
        "Now let’s calculate the cosine similarities between them.\n",
        "\n"
      ]
    },
    {
      "cell_type": "code",
      "execution_count": 9,
      "metadata": {
        "colab": {
          "base_uri": "https://localhost:8080/"
        },
        "id": "pl72-tv9eoIm",
        "outputId": "6d513cd9-073e-484c-cc86-97ecea4c3b2e"
      },
      "outputs": [
        {
          "name": "stdout",
          "output_type": "stream",
          "text": [
            "Cosine similarity between sentences 1 and 2: 0.9434669923690582\n",
            "Cosine similarity between sentences 1 and 3: 0.676844299301568\n",
            "Cosine similarity between sentences 2 and 3: 0.6739775579354772\n"
          ]
        }
      ],
      "source": [
        "print(\"Cosine similarity between sentences 1 and 2:\", cosine_similarity([sentence1], [sentence2])[0][0])\n",
        "print(\"Cosine similarity between sentences 1 and 3:\", cosine_similarity([sentence1], [sentence3])[0][0])\n",
        "print(\"Cosine similarity between sentences 2 and 3:\", cosine_similarity([sentence2], [sentence3])[0][0])"
      ]
    },
    {
      "cell_type": "code",
      "execution_count": 10,
      "metadata": {
        "colab": {
          "base_uri": "https://localhost:8080/"
        },
        "id": "HbW269cJer3d",
        "outputId": "326d2d85-dfbe-43c0-aa24-fc49e856090d"
      },
      "outputs": [
        {
          "name": "stdout",
          "output_type": "stream",
          "text": [
            "Cosine similarity between sentences 1 and 1: 1.0000000000000002\n",
            "Cosine similarity between sentences 2 and 2: 1.0000000000000004\n",
            "Cosine similarity between sentences 3 and 3: 0.9999999999999991\n"
          ]
        }
      ],
      "source": [
        "print(\"Cosine similarity between sentences 1 and 1:\", cosine_similarity([sentence1], [sentence1])[0][0])\n",
        "print(\"Cosine similarity between sentences 2 and 2:\", cosine_similarity([sentence2], [sentence2])[0][0])\n",
        "print(\"Cosine similarity between sentences 3 and 3:\", cosine_similarity([sentence3], [sentence3])[0][0])"
      ]
    },
    {
      "cell_type": "code",
      "execution_count": 11,
      "metadata": {
        "id": "JkChiLJ4e0ID"
      },
      "outputs": [],
      "source": [
        "import matplotlib.pyplot as plt"
      ]
    },
    {
      "cell_type": "code",
      "execution_count": 12,
      "metadata": {
        "colab": {
          "base_uri": "https://localhost:8080/",
          "height": 143
        },
        "id": "2f7efe73",
        "outputId": "34480e57-5856-41f4-facb-f6ccfca1f506"
      },
      "outputs": [
        {
          "data": {
            "application/vnd.google.colaboratory.intrinsic+json": {
              "summary": "{\n  \"name\": \"similarity_df\",\n  \"rows\": 3,\n  \"fields\": [\n    {\n      \"column\": \"Sentence 1\",\n      \"properties\": {\n        \"dtype\": \"number\",\n        \"std\": 0.17258488167867642,\n        \"min\": 0.6768442993015678,\n        \"max\": 1.0000000000000002,\n        \"num_unique_values\": 3,\n        \"samples\": [\n          1.0000000000000002,\n          0.9434669923690586,\n          0.6768442993015678\n        ],\n        \"semantic_type\": \"\",\n        \"description\": \"\"\n      }\n    },\n    {\n      \"column\": \"Sentence 2\",\n      \"properties\": {\n        \"dtype\": \"number\",\n        \"std\": 0.17421785641013138,\n        \"min\": 0.6739775579354772,\n        \"max\": 1.0000000000000002,\n        \"num_unique_values\": 3,\n        \"samples\": [\n          0.9434669923690586,\n          1.0000000000000002,\n          0.6739775579354772\n        ],\n        \"semantic_type\": \"\",\n        \"description\": \"\"\n      }\n    },\n    {\n      \"column\": \"Sentence 3\",\n      \"properties\": {\n        \"dtype\": \"number\",\n        \"std\": 0.18740706933912119,\n        \"min\": 0.6739775579354772,\n        \"max\": 0.9999999999999993,\n        \"num_unique_values\": 3,\n        \"samples\": [\n          0.6768442993015678,\n          0.6739775579354772,\n          0.9999999999999993\n        ],\n        \"semantic_type\": \"\",\n        \"description\": \"\"\n      }\n    }\n  ]\n}",
              "type": "dataframe",
              "variable_name": "similarity_df"
            },
            "text/html": [
              "\n",
              "  <div id=\"df-100c78bc-3058-4f52-8b38-b64c642288a7\" class=\"colab-df-container\">\n",
              "    <div>\n",
              "<style scoped>\n",
              "    .dataframe tbody tr th:only-of-type {\n",
              "        vertical-align: middle;\n",
              "    }\n",
              "\n",
              "    .dataframe tbody tr th {\n",
              "        vertical-align: top;\n",
              "    }\n",
              "\n",
              "    .dataframe thead th {\n",
              "        text-align: right;\n",
              "    }\n",
              "</style>\n",
              "<table border=\"1\" class=\"dataframe\">\n",
              "  <thead>\n",
              "    <tr style=\"text-align: right;\">\n",
              "      <th></th>\n",
              "      <th>Sentence 1</th>\n",
              "      <th>Sentence 2</th>\n",
              "      <th>Sentence 3</th>\n",
              "    </tr>\n",
              "  </thead>\n",
              "  <tbody>\n",
              "    <tr>\n",
              "      <th>Sentence 1</th>\n",
              "      <td>1.000000</td>\n",
              "      <td>0.943467</td>\n",
              "      <td>0.676844</td>\n",
              "    </tr>\n",
              "    <tr>\n",
              "      <th>Sentence 2</th>\n",
              "      <td>0.943467</td>\n",
              "      <td>1.000000</td>\n",
              "      <td>0.673978</td>\n",
              "    </tr>\n",
              "    <tr>\n",
              "      <th>Sentence 3</th>\n",
              "      <td>0.676844</td>\n",
              "      <td>0.673978</td>\n",
              "      <td>1.000000</td>\n",
              "    </tr>\n",
              "  </tbody>\n",
              "</table>\n",
              "</div>\n",
              "    <div class=\"colab-df-buttons\">\n",
              "\n",
              "  <div class=\"colab-df-container\">\n",
              "    <button class=\"colab-df-convert\" onclick=\"convertToInteractive('df-100c78bc-3058-4f52-8b38-b64c642288a7')\"\n",
              "            title=\"Convert this dataframe to an interactive table.\"\n",
              "            style=\"display:none;\">\n",
              "\n",
              "  <svg xmlns=\"http://www.w3.org/2000/svg\" height=\"24px\" viewBox=\"0 -960 960 960\">\n",
              "    <path d=\"M120-120v-720h720v720H120Zm60-500h600v-160H180v160Zm220 220h160v-160H400v160Zm0 220h160v-160H400v160ZM180-400h160v-160H180v160Zm440 0h160v-160H620v160ZM180-180h160v-160H180v160Zm440 0h160v-160H620v160Z\"/>\n",
              "  </svg>\n",
              "    </button>\n",
              "\n",
              "  <style>\n",
              "    .colab-df-container {\n",
              "      display:flex;\n",
              "      gap: 12px;\n",
              "    }\n",
              "\n",
              "    .colab-df-convert {\n",
              "      background-color: #E8F0FE;\n",
              "      border: none;\n",
              "      border-radius: 50%;\n",
              "      cursor: pointer;\n",
              "      display: none;\n",
              "      fill: #1967D2;\n",
              "      height: 32px;\n",
              "      padding: 0 0 0 0;\n",
              "      width: 32px;\n",
              "    }\n",
              "\n",
              "    .colab-df-convert:hover {\n",
              "      background-color: #E2EBFA;\n",
              "      box-shadow: 0px 1px 2px rgba(60, 64, 67, 0.3), 0px 1px 3px 1px rgba(60, 64, 67, 0.15);\n",
              "      fill: #174EA6;\n",
              "    }\n",
              "\n",
              "    .colab-df-buttons div {\n",
              "      margin-bottom: 4px;\n",
              "    }\n",
              "\n",
              "    [theme=dark] .colab-df-convert {\n",
              "      background-color: #3B4455;\n",
              "      fill: #D2E3FC;\n",
              "    }\n",
              "\n",
              "    [theme=dark] .colab-df-convert:hover {\n",
              "      background-color: #434B5C;\n",
              "      box-shadow: 0px 1px 3px 1px rgba(0, 0, 0, 0.15);\n",
              "      filter: drop-shadow(0px 1px 2px rgba(0, 0, 0, 0.3));\n",
              "      fill: #FFFFFF;\n",
              "    }\n",
              "  </style>\n",
              "\n",
              "    <script>\n",
              "      const buttonEl =\n",
              "        document.querySelector('#df-100c78bc-3058-4f52-8b38-b64c642288a7 button.colab-df-convert');\n",
              "      buttonEl.style.display =\n",
              "        google.colab.kernel.accessAllowed ? 'block' : 'none';\n",
              "\n",
              "      async function convertToInteractive(key) {\n",
              "        const element = document.querySelector('#df-100c78bc-3058-4f52-8b38-b64c642288a7');\n",
              "        const dataTable =\n",
              "          await google.colab.kernel.invokeFunction('convertToInteractive',\n",
              "                                                    [key], {});\n",
              "        if (!dataTable) return;\n",
              "\n",
              "        const docLinkHtml = 'Like what you see? Visit the ' +\n",
              "          '<a target=\"_blank\" href=https://colab.research.google.com/notebooks/data_table.ipynb>data table notebook</a>'\n",
              "          + ' to learn more about interactive tables.';\n",
              "        element.innerHTML = '';\n",
              "        dataTable['output_type'] = 'display_data';\n",
              "        await google.colab.output.renderOutput(dataTable, element);\n",
              "        const docLink = document.createElement('div');\n",
              "        docLink.innerHTML = docLinkHtml;\n",
              "        element.appendChild(docLink);\n",
              "      }\n",
              "    </script>\n",
              "  </div>\n",
              "\n",
              "\n",
              "    <div id=\"df-d5bf7115-714a-4b16-b9cc-45a6763f95c2\">\n",
              "      <button class=\"colab-df-quickchart\" onclick=\"quickchart('df-d5bf7115-714a-4b16-b9cc-45a6763f95c2')\"\n",
              "                title=\"Suggest charts\"\n",
              "                style=\"display:none;\">\n",
              "\n",
              "<svg xmlns=\"http://www.w3.org/2000/svg\" height=\"24px\"viewBox=\"0 0 24 24\"\n",
              "     width=\"24px\">\n",
              "    <g>\n",
              "        <path d=\"M19 3H5c-1.1 0-2 .9-2 2v14c0 1.1.9 2 2 2h14c1.1 0 2-.9 2-2V5c0-1.1-.9-2-2-2zM9 17H7v-7h2v7zm4 0h-2V7h2v10zm4 0h-2v-4h2v4z\"/>\n",
              "    </g>\n",
              "</svg>\n",
              "      </button>\n",
              "\n",
              "<style>\n",
              "  .colab-df-quickchart {\n",
              "      --bg-color: #E8F0FE;\n",
              "      --fill-color: #1967D2;\n",
              "      --hover-bg-color: #E2EBFA;\n",
              "      --hover-fill-color: #174EA6;\n",
              "      --disabled-fill-color: #AAA;\n",
              "      --disabled-bg-color: #DDD;\n",
              "  }\n",
              "\n",
              "  [theme=dark] .colab-df-quickchart {\n",
              "      --bg-color: #3B4455;\n",
              "      --fill-color: #D2E3FC;\n",
              "      --hover-bg-color: #434B5C;\n",
              "      --hover-fill-color: #FFFFFF;\n",
              "      --disabled-bg-color: #3B4455;\n",
              "      --disabled-fill-color: #666;\n",
              "  }\n",
              "\n",
              "  .colab-df-quickchart {\n",
              "    background-color: var(--bg-color);\n",
              "    border: none;\n",
              "    border-radius: 50%;\n",
              "    cursor: pointer;\n",
              "    display: none;\n",
              "    fill: var(--fill-color);\n",
              "    height: 32px;\n",
              "    padding: 0;\n",
              "    width: 32px;\n",
              "  }\n",
              "\n",
              "  .colab-df-quickchart:hover {\n",
              "    background-color: var(--hover-bg-color);\n",
              "    box-shadow: 0 1px 2px rgba(60, 64, 67, 0.3), 0 1px 3px 1px rgba(60, 64, 67, 0.15);\n",
              "    fill: var(--button-hover-fill-color);\n",
              "  }\n",
              "\n",
              "  .colab-df-quickchart-complete:disabled,\n",
              "  .colab-df-quickchart-complete:disabled:hover {\n",
              "    background-color: var(--disabled-bg-color);\n",
              "    fill: var(--disabled-fill-color);\n",
              "    box-shadow: none;\n",
              "  }\n",
              "\n",
              "  .colab-df-spinner {\n",
              "    border: 2px solid var(--fill-color);\n",
              "    border-color: transparent;\n",
              "    border-bottom-color: var(--fill-color);\n",
              "    animation:\n",
              "      spin 1s steps(1) infinite;\n",
              "  }\n",
              "\n",
              "  @keyframes spin {\n",
              "    0% {\n",
              "      border-color: transparent;\n",
              "      border-bottom-color: var(--fill-color);\n",
              "      border-left-color: var(--fill-color);\n",
              "    }\n",
              "    20% {\n",
              "      border-color: transparent;\n",
              "      border-left-color: var(--fill-color);\n",
              "      border-top-color: var(--fill-color);\n",
              "    }\n",
              "    30% {\n",
              "      border-color: transparent;\n",
              "      border-left-color: var(--fill-color);\n",
              "      border-top-color: var(--fill-color);\n",
              "      border-right-color: var(--fill-color);\n",
              "    }\n",
              "    40% {\n",
              "      border-color: transparent;\n",
              "      border-right-color: var(--fill-color);\n",
              "      border-top-color: var(--fill-color);\n",
              "    }\n",
              "    60% {\n",
              "      border-color: transparent;\n",
              "      border-right-color: var(--fill-color);\n",
              "    }\n",
              "    80% {\n",
              "      border-color: transparent;\n",
              "      border-right-color: var(--fill-color);\n",
              "      border-bottom-color: var(--fill-color);\n",
              "    }\n",
              "    90% {\n",
              "      border-color: transparent;\n",
              "      border-bottom-color: var(--fill-color);\n",
              "    }\n",
              "  }\n",
              "</style>\n",
              "\n",
              "      <script>\n",
              "        async function quickchart(key) {\n",
              "          const quickchartButtonEl =\n",
              "            document.querySelector('#' + key + ' button');\n",
              "          quickchartButtonEl.disabled = true;  // To prevent multiple clicks.\n",
              "          quickchartButtonEl.classList.add('colab-df-spinner');\n",
              "          try {\n",
              "            const charts = await google.colab.kernel.invokeFunction(\n",
              "                'suggestCharts', [key], {});\n",
              "          } catch (error) {\n",
              "            console.error('Error during call to suggestCharts:', error);\n",
              "          }\n",
              "          quickchartButtonEl.classList.remove('colab-df-spinner');\n",
              "          quickchartButtonEl.classList.add('colab-df-quickchart-complete');\n",
              "        }\n",
              "        (() => {\n",
              "          let quickchartButtonEl =\n",
              "            document.querySelector('#df-d5bf7115-714a-4b16-b9cc-45a6763f95c2 button');\n",
              "          quickchartButtonEl.style.display =\n",
              "            google.colab.kernel.accessAllowed ? 'block' : 'none';\n",
              "        })();\n",
              "      </script>\n",
              "    </div>\n",
              "\n",
              "  <div id=\"id_516b05c7-042c-46f9-8350-d0fe1630377d\">\n",
              "    <style>\n",
              "      .colab-df-generate {\n",
              "        background-color: #E8F0FE;\n",
              "        border: none;\n",
              "        border-radius: 50%;\n",
              "        cursor: pointer;\n",
              "        display: none;\n",
              "        fill: #1967D2;\n",
              "        height: 32px;\n",
              "        padding: 0 0 0 0;\n",
              "        width: 32px;\n",
              "      }\n",
              "\n",
              "      .colab-df-generate:hover {\n",
              "        background-color: #E2EBFA;\n",
              "        box-shadow: 0px 1px 2px rgba(60, 64, 67, 0.3), 0px 1px 3px 1px rgba(60, 64, 67, 0.15);\n",
              "        fill: #174EA6;\n",
              "      }\n",
              "\n",
              "      [theme=dark] .colab-df-generate {\n",
              "        background-color: #3B4455;\n",
              "        fill: #D2E3FC;\n",
              "      }\n",
              "\n",
              "      [theme=dark] .colab-df-generate:hover {\n",
              "        background-color: #434B5C;\n",
              "        box-shadow: 0px 1px 3px 1px rgba(0, 0, 0, 0.15);\n",
              "        filter: drop-shadow(0px 1px 2px rgba(0, 0, 0, 0.3));\n",
              "        fill: #FFFFFF;\n",
              "      }\n",
              "    </style>\n",
              "    <button class=\"colab-df-generate\" onclick=\"generateWithVariable('similarity_df')\"\n",
              "            title=\"Generate code using this dataframe.\"\n",
              "            style=\"display:none;\">\n",
              "\n",
              "  <svg xmlns=\"http://www.w3.org/2000/svg\" height=\"24px\"viewBox=\"0 0 24 24\"\n",
              "       width=\"24px\">\n",
              "    <path d=\"M7,19H8.4L18.45,9,17,7.55,7,17.6ZM5,21V16.75L18.45,3.32a2,2,0,0,1,2.83,0l1.4,1.43a1.91,1.91,0,0,1,.58,1.4,1.91,1.91,0,0,1-.58,1.4L9.25,21ZM18.45,9,17,7.55Zm-12,3A5.31,5.31,0,0,0,4.9,8.1,5.31,5.31,0,0,0,1,6.5,5.31,5.31,0,0,0,4.9,4.9,5.31,5.31,0,0,0,6.5,1,5.31,5.31,0,0,0,8.1,4.9,5.31,5.31,0,0,0,12,6.5,5.46,5.46,0,0,0,6.5,12Z\"/>\n",
              "  </svg>\n",
              "    </button>\n",
              "    <script>\n",
              "      (() => {\n",
              "      const buttonEl =\n",
              "        document.querySelector('#id_516b05c7-042c-46f9-8350-d0fe1630377d button.colab-df-generate');\n",
              "      buttonEl.style.display =\n",
              "        google.colab.kernel.accessAllowed ? 'block' : 'none';\n",
              "\n",
              "      buttonEl.onclick = () => {\n",
              "        google.colab.notebook.generateWithVariable('similarity_df');\n",
              "      }\n",
              "      })();\n",
              "    </script>\n",
              "  </div>\n",
              "\n",
              "    </div>\n",
              "  </div>\n"
            ],
            "text/plain": [
              "            Sentence 1  Sentence 2  Sentence 3\n",
              "Sentence 1    1.000000    0.943467    0.676844\n",
              "Sentence 2    0.943467    1.000000    0.673978\n",
              "Sentence 3    0.676844    0.673978    1.000000"
            ]
          },
          "metadata": {},
          "output_type": "display_data"
        }
      ],
      "source": [
        "# Calculate cosine similarity for all pairs\n",
        "similarity_matrix = cosine_similarity(embeddings)\n",
        "\n",
        "# Create a list of sentence labels\n",
        "sentence_labels = [f\"Sentence {i+1}\" for i in range(len(texts))]\n",
        "\n",
        "# Create a pandas DataFrame for easier plotting\n",
        "import pandas as pd\n",
        "similarity_df = pd.DataFrame(similarity_matrix, index=sentence_labels, columns=sentence_labels)\n",
        "\n",
        "display(similarity_df)"
      ]
    },
    {
      "cell_type": "code",
      "execution_count": 13,
      "metadata": {
        "colab": {
          "base_uri": "https://localhost:8080/",
          "height": 564
        },
        "id": "ccc3d207",
        "outputId": "dab024b2-b0e3-4120-e22b-2e9b01b8f519"
      },
      "outputs": [
        {
          "data": {
            "image/png": "[encoded data removed]",
            "text/plain": [
              "<Figure size 800x600 with 2 Axes>"
            ]
          },
          "metadata": {},
          "output_type": "display_data"
        }
      ],
      "source": [
        "# Plot the heatmap\n",
        "plt.figure(figsize=(8, 6))\n",
        "sns.heatmap(similarity_df, annot=True, cmap='viridis', fmt=\".2f\")\n",
        "plt.title('Cosine Similarity Heatmap of Sentences')\n",
        "plt.xlabel('Sentence')\n",
        "plt.ylabel('Sentence')\n",
        "plt.show()"
      ]
    },
    {
      "cell_type": "code",
      "execution_count": null,
      "metadata": {
        "id": "Pmzign88fF9D"
      },
      "outputs": [],
      "source": []
    }
  ],
  "metadata": {
    "colab": {
      "provenance": []
    },
    "kernelspec": {
      "display_name": "Python 3",
      "name": "python3"
    },
    "language_info": {
      "name": "python"
    }
  },
  "nbformat": 4,
  "nbformat_minor": 0
}

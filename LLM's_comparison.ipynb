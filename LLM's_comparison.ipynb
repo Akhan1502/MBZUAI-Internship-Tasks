{
  "nbformat": 4,
  "nbformat_minor": 0,
  "metadata": {
    "colab": {
      "provenance": [],
      "authorship_tag": "ABX9TyOoZlqqs7IT0MS0SNY1HYlW",
      "include_colab_link": true
    },
    "kernelspec": {
      "name": "python3",
      "display_name": "Python 3"
    },
    "language_info": {
      "name": "python"
    }
  },
  "cells": [
    {
      "cell_type": "markdown",
      "metadata": {
        "id": "view-in-github",
        "colab_type": "text"
      },
      "source": [
        "<a href=\"https://colab.research.google.com/github/Akhan1502/MBZUAI-Internship-Tasks/blob/main/LLM's_comparison.ipynb\" target=\"_parent\"><img src=\"https://colab.research.google.com/assets/colab-badge.svg\" alt=\"Open In Colab\"/></a>"
      ]
    },
    {
      "cell_type": "markdown",
      "source": [
        "Working with models like T5, BART, BERT\n",
        "\n"
      ],
      "metadata": {
        "id": "V1arN0qQ3HJk"
      }
    },
    {
      "cell_type": "code",
      "execution_count": null,
      "metadata": {
        "colab": {
          "base_uri": "https://localhost:8080/"
        },
        "id": "SM_zX7va7WL2",
        "outputId": "71a36025-504f-47d3-b531-3d8ea1a04d25"
      },
      "outputs": [
        {
          "output_type": "stream",
          "name": "stdout",
          "text": [
            "Summary: the earth is the third planet from the sun. about 71% of Earth's surface is\n"
          ]
        }
      ],
      "source": [
        "from transformers import T5ForConditionalGeneration, T5Tokenizer\n",
        "\n",
        "# Load T5 model\n",
        "model = T5ForConditionalGeneration.from_pretrained(\"t5-small\")\n",
        "tokenizer = T5Tokenizer.from_pretrained(\"t5-small\")\n",
        "\n",
        "# Example task: Summarization\n",
        "input_text = \"\"\"\n",
        "summarize: The Earth is the third planet from the Sun and the only astronomical object known to harbor life.\n",
        "About 71% of Earth's surface is covered with water, mostly by oceans. The remaining 29% is land consisting of continents and islands.\n",
        "Earth's atmosphere consists mostly of nitrogen and oxygen. It orbits the Sun once every 365 days, supporting a wide range of climates and life forms.\n",
        "\"\"\"\n",
        "\n",
        "# Tokenize input\n",
        "input_ids = tokenizer.encode(input_text, return_tensors=\"pt\")\n",
        "\n",
        "# Generate output\n",
        "output = model.generate(input_ids)\n",
        "result = tokenizer.decode(output[0], skip_special_tokens=True)\n",
        "\n",
        "print(\"Summary:\", result)\n"
      ]
    },
    {
      "cell_type": "code",
      "source": [
        "from transformers import T5ForConditionalGeneration, T5Tokenizer\n",
        "\n",
        "# Load model\n",
        "model = T5ForConditionalGeneration.from_pretrained(\"t5-small\")\n",
        "tokenizer = T5Tokenizer.from_pretrained(\"t5-small\")\n",
        "\n",
        "# Input paragraph\n",
        "input_text = \"\"\"\n",
        "summarize: The Earth is the third planet from the Sun and the only astronomical object known to harbor life.\n",
        "About 71% of Earth's surface is covered with water, mostly by oceans. The remaining 29% is land consisting of continents and islands.\n",
        "Earth's atmosphere consists mostly of nitrogen and oxygen. It orbits the Sun once every 365 days, supporting a wide range of climates and life forms.\n",
        "\"\"\"\n",
        "\n",
        "# Tokenize\n",
        "input_ids = tokenizer.encode(input_text, return_tensors=\"pt\")\n",
        "\n",
        "# Generate summary\n",
        "output = model.generate(\n",
        "    input_ids,\n",
        "    max_length=80,\n",
        "    num_beams=4,\n",
        "    early_stopping=True\n",
        ")\n",
        "\n",
        "# Decode\n",
        "result = tokenizer.decode(output[0], skip_special_tokens=True)\n",
        "print(\"Summary:\", result)\n"
      ],
      "metadata": {
        "colab": {
          "base_uri": "https://localhost:8080/"
        },
        "id": "0tIc7lkM81P7",
        "outputId": "d36cd310-f2a3-414f-d2dd-740e70feff9c"
      },
      "execution_count": null,
      "outputs": [
        {
          "output_type": "stream",
          "name": "stdout",
          "text": [
            "Summary: about 71% of Earth's surface is covered with water, mostly by oceans. the remaining 29% is land consisting of continents and islands.\n"
          ]
        }
      ]
    },
    {
      "cell_type": "code",
      "source": [
        "from transformers import T5ForConditionalGeneration, T5Tokenizer\n",
        "\n",
        "# Load T5 model\n",
        "model = T5ForConditionalGeneration.from_pretrained(\"t5-base\")\n",
        "tokenizer = T5Tokenizer.from_pretrained(\"t5-base\")\n",
        "\n",
        "# Example task: Summarization\n",
        "input_text = \"\"\"\n",
        "summarize: The Earth is the third planet from the Sun and the only astronomical object known to harbor life.\n",
        "About 71% of Earth's surface is covered with water, mostly by oceans. The remaining 29% is land consisting of continents and islands.\n",
        "Earth's atmosphere consists mostly of nitrogen and oxygen. It orbits the Sun once every 365 days, supporting a wide range of climates and life forms.\n",
        "\"\"\"\n",
        "\n",
        "\n",
        "# Tokenize input\n",
        "input_ids = tokenizer.encode(input_text, return_tensors=\"pt\")\n",
        "\n",
        "# Generate output\n",
        "output = model.generate(input_ids, max_length=100)\n",
        "result = tokenizer.decode(output[0], skip_special_tokens=True).strip()\n",
        "\n",
        "print(\"Summary:\", result)\n"
      ],
      "metadata": {
        "colab": {
          "base_uri": "https://localhost:8080/"
        },
        "id": "HMAsczTw88Ti",
        "outputId": "d7d3e338-1da9-4c39-d26f-896f5648daa6"
      },
      "execution_count": null,
      "outputs": [
        {
          "output_type": "stream",
          "name": "stdout",
          "text": [
            "Summary: about 71% of Earth's surface is covered with water, mostly by oceans . about 29% of Earth's land consisting of continents and islands .\n"
          ]
        }
      ]
    },
    {
      "cell_type": "code",
      "source": [
        "from transformers import T5ForConditionalGeneration, T5Tokenizer\n",
        "\n",
        "# Load T5 model\n",
        "model = T5ForConditionalGeneration.from_pretrained(\"t5-base\")\n",
        "tokenizer = T5Tokenizer.from_pretrained(\"t5-base\")\n",
        "\n",
        "# Example task: Summarization\n",
        "input_text = \"\"\"\n",
        "\n",
        "summarize: One important fact about Earth is that it is the THIRD PLANET FROM THE SUN.\n",
        "This fact is often overlooked but is essential.\n",
        "Additionally, about 71% of Earth's surface is covered with water, mostly by oceans.\n",
        "It orbits the Sun once every 365 days, supporting many forms of life.\n",
        "\n",
        "\n",
        "\"\"\"\n",
        "\n",
        "# Tokenize input\n",
        "input_ids = tokenizer.encode(input_text, return_tensors=\"pt\")\n",
        "\n",
        "# Generate output\n",
        "output = model.generate(input_ids,\n",
        "    max_length=200,\n",
        "    num_beams=4,\n",
        "    early_stopping=True)\n",
        "result = tokenizer.decode(output[0], skip_special_tokens=True).strip()\n",
        "\n",
        "print(\"Summary:\", result)\n"
      ],
      "metadata": {
        "colab": {
          "base_uri": "https://localhost:8080/"
        },
        "id": "U81x8s_U9k1i",
        "outputId": "7fc3c368-2d3e-4288-954e-5f0aa4852fd4"
      },
      "execution_count": null,
      "outputs": [
        {
          "output_type": "stream",
          "name": "stdout",
          "text": [
            "Summary: about 71% of Earth's surface is covered with water, mostly by oceans . about 71% of Earth's surface is covered with water, mostly by oceans .\n"
          ]
        }
      ]
    },
    {
      "cell_type": "code",
      "source": [
        "from transformers import T5ForConditionalGeneration, T5Tokenizer\n",
        "\n",
        "# Load T5 model\n",
        "model = T5ForConditionalGeneration.from_pretrained(\"t5-base\")\n",
        "tokenizer = T5Tokenizer.from_pretrained(\"t5-base\")\n",
        "\n",
        "# Example task: Summarization\n",
        "input_text = \"\"\"\n",
        "\n",
        "translate English to German: One important fact about Earth is that it is the THIRD PLANET FROM THE SUN.\n",
        "This fact is often overlooked but is essential.\n",
        "Additionally, about 71% of Earth's surface is covered with water, mostly by oceans.\n",
        "It orbits the Sun once every 365 days, supporting many forms of life.\n",
        "\n",
        "\n",
        "\"\"\"\n",
        "\n",
        "# Tokenize input\n",
        "input_ids = tokenizer.encode(input_text, return_tensors=\"pt\")\n",
        "\n",
        "# Generate output\n",
        "output = model.generate(input_ids,\n",
        "    max_length=200,\n",
        "    num_beams=4,\n",
        "    early_stopping=True)\n",
        "result = tokenizer.decode(output[0], skip_special_tokens=True).strip()\n",
        "\n",
        "print(\"Text in german:\", result)\n"
      ],
      "metadata": {
        "colab": {
          "base_uri": "https://localhost:8080/"
        },
        "id": "gHtY3gIPcVyy",
        "outputId": "8c03f2cf-2354-401e-f483-8a2c81d47707"
      },
      "execution_count": null,
      "outputs": [
        {
          "output_type": "stream",
          "name": "stdout",
          "text": [
            "Text in german: Eine wichtige Tatsache über die Erde ist, dass sie der DRITTE PLANET DER SOLE ist. Diese Tatsache wird oft übersehen, aber sie ist wesentlich.\n"
          ]
        }
      ]
    },
    {
      "cell_type": "markdown",
      "source": [
        "Now exploring other models - BERT"
      ],
      "metadata": {
        "id": "dQsKiRH9dNkj"
      }
    },
    {
      "cell_type": "code",
      "source": [
        "from transformers import pipeline\n",
        "\n",
        "qa = pipeline(\"question-answering\", model=\"bert-large-uncased-whole-word-masking-finetuned-squad\")\n",
        "result = qa({\n",
        "    \"context\": \"The Earth orbits the Sun in 365 days.\",\n",
        "    \"question\": \"How long does the Earth take to orbit the Sun?\"\n",
        "})\n",
        "print(result)\n"
      ],
      "metadata": {
        "colab": {
          "base_uri": "https://localhost:8080/",
          "height": 318,
          "referenced_widgets": [
            "95bf9518638843d19a4a66758a9161ed",
            "224d0eb596c24215b775287cc2f943a2",
            "8469ea24e00e4661b5efacb6f9804044",
            "01473c270c6f4cebbd3382d226a23580",
            "679a8997a3804f4bb0f9331abbf88333",
            "0d6faecf3ff94c6988a5d83aa8bbf7bb",
            "1c73c26b8c094e298d478c8aa6e1de1f",
            "fae284d8b2ca471492565a3d41707e4b",
            "b7cbd996e71c4a45a8b22be6eef107e4",
            "67f058d005ad49adbd7e1284f5d219fe",
            "94c118d803964c7384cf6ea31e4927b1",
            "ea623881548944a68ed7935c7ce7eaf4",
            "b7f548ce8d604cdb9563ad52bd209d56",
            "ff2368b1b78542018acca36cf4dbcd58",
            "fe8eb11e2bfc480e876228717e331f5e",
            "4339c328145742c4a2b0298a97103c08",
            "2870520b8e5f46e1a76609ebee29d216",
            "e485a06f3db3473b9b4a7443e5c630a9",
            "01b1a249bebc4064a04e3e7b5c6db19a",
            "e6b5db619c3b4b248c72d3bc80a3c0dc",
            "8e7ea30d432b4fa2bf66dac07c761d11",
            "1b2f1f933f0040b6a11543600c5d1b06",
            "c73489853ea54e929fe43f06e128dc05",
            "006d427d99ae4984a5b2b08eb3f4a562",
            "d3a8a0f2b6074577be2d6b5978dbcda7",
            "51463a9c15644747b474e0491c05ff4b",
            "16cf1ebf9797429d93b5120aac3aefbb",
            "de2fae61b2624430abadf0d89bf8c729",
            "f4897e0da90c466092c26d126686c344",
            "1a525fee21204694972052e5b20e9b17",
            "0861f3a491584cc5a1e6aec8e9d1dc95",
            "5cc5a89178894eba9bc945f20db1000c",
            "2222552600ae4517b3bbfa983d9fa6ad",
            "1c45d6fb2caf4ccaa9d624d66b5c555e",
            "a1a719d0d6334bbeb4d1f667a905666a",
            "810b588e3a5543edaa444e19480c7896",
            "27de77cec1994dc1a7674f8d6bb5b1e1",
            "86026affb47748d99abe1b2205af4b79",
            "16ad9859d5744ac6b8764af85a30f083",
            "64e1b56a2dc7467f9f8cde97bc655fbf",
            "51486c1f596745d0bce2bc887dbe1348",
            "e91a3d260a5540b8851ab3f656488594",
            "07fcad1229b4446f899fb4274d9e5d27",
            "7d6e162f781f49d0bc0dba37f08263ac",
            "f4bdaca7bbb548ec9c8285c3b233d729",
            "edf124fc249241d692c720d11127eb4b",
            "728c339a1b404a3a9f2e68fd9ac0018d",
            "f323f11c1d834620a6a3b77cf3dffe23",
            "85a240f75e9246eaaa55a61383ce0fc7",
            "317fb773fa584221b05316ea63d1d322",
            "013c334f17674a7392fb1511cb7c9f41",
            "aff962822ac54e379c0f1f636b6339b6",
            "20f9dda63fc54d77817b31c713e4b23c",
            "952e24363088400097d17b55e49f44cc",
            "828136268336430cb6bae54f37866f96"
          ]
        },
        "id": "wxz0CUhjdQsk",
        "outputId": "03b64084-f4b8-44bf-defc-0c0756343d2b"
      },
      "execution_count": null,
      "outputs": [
        {
          "output_type": "display_data",
          "data": {
            "text/plain": [
              "config.json:   0%|          | 0.00/443 [00:00<?, ?B/s]"
            ],
            "application/vnd.jupyter.widget-view+json": {
              "version_major": 2,
              "version_minor": 0,
              "model_id": "95bf9518638843d19a4a66758a9161ed"
            }
          },
          "metadata": {}
        },
        {
          "output_type": "display_data",
          "data": {
            "text/plain": [
              "model.safetensors:   0%|          | 0.00/1.34G [00:00<?, ?B/s]"
            ],
            "application/vnd.jupyter.widget-view+json": {
              "version_major": 2,
              "version_minor": 0,
              "model_id": "ea623881548944a68ed7935c7ce7eaf4"
            }
          },
          "metadata": {}
        },
        {
          "output_type": "stream",
          "name": "stderr",
          "text": [
            "Some weights of the model checkpoint at bert-large-uncased-whole-word-masking-finetuned-squad were not used when initializing BertForQuestionAnswering: ['bert.pooler.dense.bias', 'bert.pooler.dense.weight']\n",
            "- This IS expected if you are initializing BertForQuestionAnswering from the checkpoint of a model trained on another task or with another architecture (e.g. initializing a BertForSequenceClassification model from a BertForPreTraining model).\n",
            "- This IS NOT expected if you are initializing BertForQuestionAnswering from the checkpoint of a model that you expect to be exactly identical (initializing a BertForSequenceClassification model from a BertForSequenceClassification model).\n"
          ]
        },
        {
          "output_type": "display_data",
          "data": {
            "text/plain": [
              "tokenizer_config.json:   0%|          | 0.00/48.0 [00:00<?, ?B/s]"
            ],
            "application/vnd.jupyter.widget-view+json": {
              "version_major": 2,
              "version_minor": 0,
              "model_id": "c73489853ea54e929fe43f06e128dc05"
            }
          },
          "metadata": {}
        },
        {
          "output_type": "display_data",
          "data": {
            "text/plain": [
              "vocab.txt:   0%|          | 0.00/232k [00:00<?, ?B/s]"
            ],
            "application/vnd.jupyter.widget-view+json": {
              "version_major": 2,
              "version_minor": 0,
              "model_id": "1c45d6fb2caf4ccaa9d624d66b5c555e"
            }
          },
          "metadata": {}
        },
        {
          "output_type": "display_data",
          "data": {
            "text/plain": [
              "tokenizer.json:   0%|          | 0.00/466k [00:00<?, ?B/s]"
            ],
            "application/vnd.jupyter.widget-view+json": {
              "version_major": 2,
              "version_minor": 0,
              "model_id": "f4bdaca7bbb548ec9c8285c3b233d729"
            }
          },
          "metadata": {}
        },
        {
          "output_type": "stream",
          "name": "stderr",
          "text": [
            "Device set to use cpu\n",
            "/usr/local/lib/python3.11/dist-packages/transformers/pipelines/question_answering.py:390: FutureWarning: Passing a list of SQuAD examples to the pipeline is deprecated and will be removed in v5. Inputs should be passed using the `question` and `context` keyword arguments instead.\n",
            "  warnings.warn(\n"
          ]
        },
        {
          "output_type": "stream",
          "name": "stdout",
          "text": [
            "{'score': 0.9831908941268921, 'start': 28, 'end': 36, 'answer': '365 days'}\n"
          ]
        }
      ]
    },
    {
      "cell_type": "code",
      "source": [
        "!pip install transformers\n",
        "\n",
        "from transformers import pipeline\n",
        "\n",
        "# 1. SENTIMENT ANALYSIS (using DistilBERT-based model)\n",
        "sentiment_pipeline = pipeline(\"sentiment-analysis\", model=\"distilbert-base-uncased-finetuned-sst-2-english\")\n",
        "sentiment = sentiment_pipeline(\"I love learning about large language models!\")\n",
        "print(\"\\n🧠 Sentiment Analysis:\")\n",
        "print(sentiment)\n",
        "\n",
        "# 2. TRANSLATION (using MarianMT, since BERT doesn't translate — it's an encoder-only model)\n",
        "translation_pipeline = pipeline(\"translation_en_to_fr\", model=\"Helsinki-NLP/opus-mt-en-fr\")\n",
        "translation = translation_pipeline(\"The Earth is the third planet from the Sun.\")\n",
        "print(\"\\n🌍 Translation (EN to FR):\")\n",
        "print(translation)\n",
        "\n",
        "# 3. SUMMARIZATION (using BERT-based BART)\n",
        "summarization_pipeline = pipeline(\"summarization\", model=\"facebook/bart-large-cnn\")\n",
        "long_text = \"\"\"\n",
        "The Earth is the third planet from the Sun and the only astronomical object known to harbor life.\n",
        "About 71% of Earth's surface is covered with water, mostly by oceans. The remaining 29% is land consisting of continents and islands.\n",
        "Earth's atmosphere consists mostly of nitrogen and oxygen. It orbits the Sun once every 365 days, supporting a wide range of climates and life forms.\n",
        "\"\"\"\n",
        "summary = summarization_pipeline(long_text, max_length=60, min_length=20, do_sample=False)\n",
        "print(\"\\n📝 Summarization:\")\n",
        "print(summary[0]['summary_text'])\n",
        "\n",
        "# 4. QUESTION ANSWERING (using BERT fine-tuned on SQuAD)\n",
        "qa_pipeline = pipeline(\"question-answering\", model=\"bert-large-uncased-whole-word-masking-finetuned-squad\")\n",
        "context = \"The Earth orbits the Sun once every 365 days and supports life due to its atmosphere.\"\n",
        "question = \"How long does it take for Earth to orbit the Sun?\"\n",
        "answer = qa_pipeline({'context': context, 'question': question})\n",
        "print(\"\\n❓ Question Answering:\")\n",
        "print(answer)\n"
      ],
      "metadata": {
        "id": "mSuEeLVzJq81"
      },
      "execution_count": null,
      "outputs": []
    },
    {
      "cell_type": "code",
      "metadata": {
        "colab": {
          "base_uri": "https://localhost:8080/",
          "height": 636
        },
        "id": "14c89457",
        "outputId": "1f1a5660-b641-4224-dfa4-3a6069b34fe9"
      },
      "source": [
        "!pip install --upgrade transformers"
      ],
      "execution_count": null,
      "outputs": [
        {
          "output_type": "stream",
          "name": "stdout",
          "text": [
            "Requirement already satisfied: transformers in /usr/local/lib/python3.11/dist-packages (4.53.1)\n",
            "Collecting transformers\n",
            "  Downloading transformers-4.53.2-py3-none-any.whl.metadata (40 kB)\n",
            "\u001b[2K     \u001b[90m━━━━━━━━━━━━━━━━━━━━━━━━━━━━━━━━━━━━━━━━\u001b[0m \u001b[32m40.9/40.9 kB\u001b[0m \u001b[31m1.8 MB/s\u001b[0m eta \u001b[36m0:00:00\u001b[0m\n",
            "\u001b[?25hRequirement already satisfied: filelock in /usr/local/lib/python3.11/dist-packages (from transformers) (3.18.0)\n",
            "Requirement already satisfied: huggingface-hub<1.0,>=0.30.0 in /usr/local/lib/python3.11/dist-packages (from transformers) (0.33.2)\n",
            "Requirement already satisfied: numpy>=1.17 in /usr/local/lib/python3.11/dist-packages (from transformers) (2.0.2)\n",
            "Requirement already satisfied: packaging>=20.0 in /usr/local/lib/python3.11/dist-packages (from transformers) (24.2)\n",
            "Requirement already satisfied: pyyaml>=5.1 in /usr/local/lib/python3.11/dist-packages (from transformers) (6.0.2)\n",
            "Requirement already satisfied: regex!=2019.12.17 in /usr/local/lib/python3.11/dist-packages (from transformers) (2024.11.6)\n",
            "Requirement already satisfied: requests in /usr/local/lib/python3.11/dist-packages (from transformers) (2.32.3)\n",
            "Requirement already satisfied: tokenizers<0.22,>=0.21 in /usr/local/lib/python3.11/dist-packages (from transformers) (0.21.2)\n",
            "Requirement already satisfied: safetensors>=0.4.3 in /usr/local/lib/python3.11/dist-packages (from transformers) (0.5.3)\n",
            "Requirement already satisfied: tqdm>=4.27 in /usr/local/lib/python3.11/dist-packages (from transformers) (4.67.1)\n",
            "Requirement already satisfied: fsspec>=2023.5.0 in /usr/local/lib/python3.11/dist-packages (from huggingface-hub<1.0,>=0.30.0->transformers) (2025.3.2)\n",
            "Requirement already satisfied: typing-extensions>=3.7.4.3 in /usr/local/lib/python3.11/dist-packages (from huggingface-hub<1.0,>=0.30.0->transformers) (4.14.1)\n",
            "Requirement already satisfied: hf-xet<2.0.0,>=1.1.2 in /usr/local/lib/python3.11/dist-packages (from huggingface-hub<1.0,>=0.30.0->transformers) (1.1.5)\n",
            "Requirement already satisfied: charset-normalizer<4,>=2 in /usr/local/lib/python3.11/dist-packages (from requests->transformers) (3.4.2)\n",
            "Requirement already satisfied: idna<4,>=2.5 in /usr/local/lib/python3.11/dist-packages (from requests->transformers) (3.10)\n",
            "Requirement already satisfied: urllib3<3,>=1.21.1 in /usr/local/lib/python3.11/dist-packages (from requests->transformers) (2.4.0)\n",
            "Requirement already satisfied: certifi>=2017.4.17 in /usr/local/lib/python3.11/dist-packages (from requests->transformers) (2025.7.9)\n",
            "Downloading transformers-4.53.2-py3-none-any.whl (10.8 MB)\n",
            "\u001b[2K   \u001b[90m━━━━━━━━━━━━━━━━━━━━━━━━━━━━━━━━━━━━━━━━\u001b[0m \u001b[32m10.8/10.8 MB\u001b[0m \u001b[31m59.9 MB/s\u001b[0m eta \u001b[36m0:00:00\u001b[0m\n",
            "\u001b[?25hInstalling collected packages: transformers\n",
            "  Attempting uninstall: transformers\n",
            "    Found existing installation: transformers 4.53.1\n",
            "    Uninstalling transformers-4.53.1:\n",
            "      Successfully uninstalled transformers-4.53.1\n",
            "Successfully installed transformers-4.53.2\n"
          ]
        },
        {
          "output_type": "display_data",
          "data": {
            "application/vnd.colab-display-data+json": {
              "pip_warning": {
                "packages": [
                  "transformers"
                ]
              },
              "id": "add08de059494597824a3731673a90f1"
            }
          },
          "metadata": {}
        }
      ]
    }
  ]
}